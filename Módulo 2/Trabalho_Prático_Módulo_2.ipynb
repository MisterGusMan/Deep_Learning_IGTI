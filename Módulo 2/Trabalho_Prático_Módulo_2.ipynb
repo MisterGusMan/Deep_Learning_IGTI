{
  "nbformat": 4,
  "nbformat_minor": 0,
  "metadata": {
    "colab": {
      "name": "Trabalho Prático Módulo 2.ipynb",
      "provenance": [],
      "collapsed_sections": [],
      "authorship_tag": "ABX9TyPgHrsT5a8rykZfgOa2WbDR",
      "include_colab_link": true
    },
    "kernelspec": {
      "name": "python3",
      "display_name": "Python 3"
    },
    "language_info": {
      "name": "python"
    }
  },
  "cells": [
    {
      "cell_type": "markdown",
      "metadata": {
        "id": "view-in-github",
        "colab_type": "text"
      },
      "source": [
        "<a href=\"https://colab.research.google.com/github/MisterGusMan/Deep_Learning_IGTI/blob/main/M%C3%B3dulo%202/Trabalho_Pr%C3%A1tico_M%C3%B3dulo_2.ipynb\" target=\"_parent\"><img src=\"https://colab.research.google.com/assets/colab-badge.svg\" alt=\"Open In Colab\"/></a>"
      ]
    },
    {
      "cell_type": "code",
      "metadata": {
        "id": "6cNU8xpIQg1N"
      },
      "source": [
        "import tensorflow.keras.models as Models\n",
        "from tensorflow.keras.models import Model\n",
        "import tensorflow.keras.layers as Layers\n",
        "import tensorflow.keras.optimizers as Optimizer\n",
        "from tensorflow.keras.callbacks import ModelCheckpoint\n",
        "from tensorflow.keras.utils import plot_model\n",
        "import matplotlib.pyplot as plot\n",
        "import matplotlib\n",
        "import numpy as np\n",
        "import cv2\n",
        "from random import randint\n",
        "from sklearn.metrics import confusion_matrix\n",
        "import seaborn as sn\n",
        "import os"
      ],
      "execution_count": 64,
      "outputs": []
    },
    {
      "cell_type": "code",
      "metadata": {
        "id": "DxV8PlV8R9Cs"
      },
      "source": [
        "def get_images_labels(directory):\n",
        "  Images = []\n",
        "  Labels = []\n",
        "  label = 0\n",
        "  for labels in os.listdir(directory): # diretorios das imagens que possuem nomes das classes.\n",
        "    if labels == 'glacier':\n",
        "      label = 2\n",
        "    elif labels == 'sea':\n",
        "      label = 4\n",
        "    elif labels == 'buildings':\n",
        "      label = 0\n",
        "    elif labels == 'forest':\n",
        "      label = 1\n",
        "    elif labels == 'street':\n",
        "      label = 5\n",
        "    elif labels == 'mountain':\n",
        "      label = 3\n",
        "    for image_file in os.listdir(directory+labels): # extrai imagens\n",
        "      image = cv2.imread(directory+labels+r'/'+image_file) # lê imagens (OpenCV)\n",
        "      image = cv2.resize(image, (150,150)) # \"resize\" imagens\n",
        "      Images.append(image)\n",
        "      Labels.append(label)\n",
        "  return (Images, Labels)"
      ],
      "execution_count": 52,
      "outputs": []
    },
    {
      "cell_type": "code",
      "metadata": {
        "id": "6jR8eJqUSqM_"
      },
      "source": [
        "def get_images(directory):\n",
        "  Images = []\n",
        "  for image_file in os.listdir(directory): # extrai imagens\n",
        "    image = cv2.imread(directory+'/'+image_file) # lê imagens (OpenCV)\n",
        "    image = cv2.resize(image, (150, 150)) # \"resize\" imagens\n",
        "    Images.append(image)\n",
        "  return (Images)"
      ],
      "execution_count": 53,
      "outputs": []
    },
    {
      "cell_type": "code",
      "metadata": {
        "id": "ReYrMTsHfwUq"
      },
      "source": [
        "def get_classlabel(class_code):\n",
        "  labels = {2:'glacier', 4:'sea', 0:'buildings', 1:'forest', 5:'street', 3: 'mountain'}\n",
        "  return labels[class_code]\n"
      ],
      "execution_count": 54,
      "outputs": []
    },
    {
      "cell_type": "code",
      "metadata": {
        "id": "H2jd6yPmf34R"
      },
      "source": [
        "def plot_images():\n",
        "  Images, Labels = get_images_labels('input/seg_train/seg_train/') # extrai imagens de treinamento\n",
        "  Images = np.array(Images) # converte lista de imagens para numpy array.\n",
        "  Labels = np.array(Labels)\n",
        "  f, ax = plot.subplots (5,5)\n",
        "  for i in range(0,5,1):\n",
        "    for j in range(0,5,1):\n",
        "      index = randint(0, len(Images))\n",
        "      ax[i,j].imshow( Images[index])\n",
        "      ax[i,j].set_title(get_classlabel(Labels[index]))\n",
        "      ax[i,j].axis('off')\n",
        "      plot.show()\n"
      ],
      "execution_count": 55,
      "outputs": []
    },
    {
      "cell_type": "code",
      "metadata": {
        "id": "KdZy2-GjgLWV"
      },
      "source": [
        "def pie_plot():\n",
        "  class_names = ['buildings', 'forest', 'glacier', 'mountain', 'sea', 'street']\n",
        "  Images, Labels = get_images_labels ('input/seg_train/seg_train/')\n",
        "  Labels = np.array(Labels)\n",
        "  sizes = np.bincount(Labels)\n",
        "  explode = (0, 0, 0, 0, 0, 0)\n",
        "  plot.pie(sizes, explode=explode, labels=class_names, autopct='%1.1f%%', shadow=True, startangle = -150)\n",
        "  plot.axis ('equal')\n",
        "  plot.title('Porcentagem de Imagens por Categoria')\n",
        "  plot.show()\n"
      ],
      "execution_count": 56,
      "outputs": []
    },
    {
      "cell_type": "code",
      "metadata": {
        "id": "Wk1MnRGogUvb"
      },
      "source": [
        "def get_model_Sequential_Completo():\n",
        "  model = Models. Sequential()\n",
        "  model.add(Layers.Conv2D(200, kernel_size=(3,3), activation='relu', input_shape=(150, 150,3)))\n",
        "  model.add(Layers.Conv2D(180, kernel_size=(3,3), activation='relu'))\n",
        "  model.add(Layers. MaxPool2D(5,5))\n",
        "  model.add(Layers.Conv2D(180, kernel_size=(3,3), activation='relu'))\n",
        "  model.add(Layers.Conv2D(140, kernel_size=(3,3), activation='relu'))\n",
        "  model.add(Layers.Conv2D(100, kernel_size=(3,3), activation='relu'))\n",
        "  model.add(Layers.Conv2D(50, kernel_size=(3,3), activation='relu'))\n",
        "  model.add(Layers. MaxPool2D(5,5))\n",
        "  model.add(Layers. Flatten())\n",
        "  model.add(Layers.Dense(180, activation='relu'))\n",
        "  model.add(Layers.Dense(100, activation='relu'))\n",
        "  model.add(Layers.Dense(50, activation='relu'))\n",
        "  model.add(Layers.Dropout(rate=0.5))\n",
        "  model.add(Layers.Dense(6, activation='softmax'))\n",
        "  model.compile(optimizer=Optimizer. Adam(lr=0.0001), loss='sparse_categorical_crossentropy', metrics=['accuracy'])\n",
        "  model. summary()\n",
        "  return model\n"
      ],
      "execution_count": 57,
      "outputs": []
    },
    {
      "cell_type": "code",
      "metadata": {
        "id": "b3G6LBILgobG"
      },
      "source": [
        "def plot_Model_Sequential_Completo():\n",
        "  model = get_model_Sequential_Completo()\n",
        "  plot_model(model, to_file='modelo_completo.png', show_shapes=True)\n",
        "  model_image = cv2.imread('modelo_completo.png')\n",
        "  model_image_np = np.array(model_image)\n",
        "  f, ax = plot. subplots(1,1)\n",
        "  ax.imshow(model_image_np)\n",
        "  ax.set_title('Modelo Completo')\n",
        "  ax.axis('off')\n",
        "  plot.show()\n"
      ],
      "execution_count": 58,
      "outputs": []
    },
    {
      "cell_type": "code",
      "metadata": {
        "id": "ppUUzwyUgzz0"
      },
      "source": [
        "def fit_model_Sequential_Completo():\n",
        "  Images, Labels = get_images_labels('input/seg_train/seg_train/')\n",
        "  Images = np.array(Images) # converte lista de imagens para numpy array.\n",
        "  Labels = np.array(Labels)\n",
        "  np.random.shuffle (Images)\n",
        "  np.random.shuffle(Labels)\n",
        "  few_images - Images [1:300]\n",
        "  few_labels = Labels[1:300]\n",
        "  model = get_model_Sequential_Completo()\n",
        "  trained = model.fit(few_images, few_labels, batch_size=10, epochs=4, validation_split=0.30)\n",
        "  model.save('model/first')\n",
        "  model.save_weights('model/first')\n",
        "  plot.plot(trained.history['accuracy'])\n",
        "  plot.plot(trained.history['val_accuracy'])\n",
        "  plot.title('Model accuracy')\n",
        "  plot.ylabel('Accuracy')\n",
        "  plot.xlabel('Epoch')\n",
        "  plot.legend ( ['Train', 'Test'], loc='upper left')\n",
        "  plot.show()\n",
        "  plot.plot(trained.history['loss'])\n",
        "  plot.plot(trained.history['val_loss'])\n",
        "  plot.title('Model loss')\n",
        "  plot.ylabel('Loss')\n",
        "  plot.xlabel( 'Epoch')\n",
        "  plot.legend(['Train', 'Test'], loc='upper left')\n",
        "  plot.show()\n"
      ],
      "execution_count": 59,
      "outputs": []
    },
    {
      "cell_type": "code",
      "metadata": {
        "id": "V2cyZF9ChBv8"
      },
      "source": [
        "def predict_model_Sequential_Completo():\n",
        "  model = get_model_Sequential_Completo()\n",
        "  model.load_weights('model/first')\n",
        "  pred_images = get_images('input/seg_pred/seg_pred/')\n",
        "  pred_images = np.array(pred_images)\n",
        "  fig = plot.figure(figsize=(60, 60))\n",
        "  outer = matplotlib.gridspec.GridSpec(3, 3, wspace=0.4, hspace=0.4)\n",
        "  for i in range (9):\n",
        "    inner = matplotlib.gridspec. GridSpecFromSubplotSpec(2, 1, subplot_spec-outer[i], wspace=0.1, hspace=0.1)\n",
        "    rnd_number = randint(0, len(pred_images))\n",
        "    pred_image = np.array([pred_images[rnd_number]])\n",
        "    predict_classes = model.predict(pred_image)\n",
        "    arg = np.argmax(predict_classes, axis=1)[0]\n",
        "    pred_class = get_classlabel(arg)\n",
        "    pred_prob = predict_classes.reshape(6)\n",
        "    for j in range(2):\n",
        "      if (j%2) == 0 :\n",
        "        ax = plot. Subplot(fig, inner[j])\n",
        "        ax.imshow(pred_image[0])\n",
        "        ax.set_title(pred_class)\n",
        "        ax.set_xticks([])\n",
        "        ax.set_yticks([])\n",
        "        fig.add_subplot(ax)\n",
        "      else:\n",
        "        ax = plot. Subplot(fig, inner[j])\n",
        "        ax.bar([get_classlabel(0), get_classlabel(1),get_classlabel(2),get_classlabel(3), get_classlabel(4), get_classlabel(5)], pred_prob)\n",
        "        fig. add_subplot(ax)\n",
        "  plot.show()\n"
      ],
      "execution_count": 60,
      "outputs": []
    },
    {
      "cell_type": "code",
      "metadata": {
        "id": "yxaccrOriD7q"
      },
      "source": [
        "def evaluate_Model_Sequential_Completo():\n",
        "  test_images, test_labels = get_images_labels('input/seg_test/seg_test/')\n",
        "  test_images = np.array(test_images)\n",
        "  test_labels = np.array(test_labels)\n",
        "  test_images = test_images[1:100]\n",
        "  test_labels = test_labels[1:100]\n",
        "  model = get_model_Sequential_Completo()\n",
        "  model.load_weights('model/first')\n",
        "  model.evaluate(test_images, test_labels, verbose=1)\n"
      ],
      "execution_count": 61,
      "outputs": []
    },
    {
      "cell_type": "code",
      "metadata": {
        "id": "ROXLSgv1iOBF"
      },
      "source": [
        "def plot_confusion_matrix():\n",
        "  class_names = ['buildings', 'forest', 'glacier', 'mountain', 'sea', 'street']\n",
        "  model = get_model_Sequential_Completo ( )\n",
        "  model.load_weights('model/first')\n",
        "  test_images, test_labels = get_images_labels ('input/seg_test/seg_test/')\n",
        "  test_images = np.array(test_images)\n",
        "  test_labels = np.array(test_labels)\n",
        "  few_images = test_images\n",
        "  few_labels = test_labels\n",
        "  test_prob = model.predict(few_images)\n",
        "  pred_labels = np.argmax(test_prob, axis = 1)\n",
        "  CM = confusion_matrix(few_labels, pred_labels)\n",
        "  ax = plot.axes()\n",
        "  sn.set(font_scale=1.4)\n",
        "  sn.heatmap(CM, annot=False, annot_kws={\"size\": 16}, xticklabels=class_names, yticklabels=class_names, ax = ax)\n",
        "  ax.set_title('Confusion matrix')\n",
        "  plot.show()\n"
      ],
      "execution_count": 62,
      "outputs": []
    }
  ]
}